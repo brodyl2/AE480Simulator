{
 "cells": [
  {
   "cell_type": "code",
   "execution_count": 1,
   "id": "ea605978",
   "metadata": {},
   "outputs": [
    {
     "name": "stdout",
     "output_type": "stream",
     "text": [
      "The EOP file 'finals2000A.all' in C:\\Users\\Brody/src/iers/ is already the latest.\n",
      "The Leap Second file 'Leap_Second.dat' in C:\\Users\\Brody/src/iers/ is already the latest.\n"
     ]
    }
   ],
   "source": [
    "#Import Useful Modules\n",
    "from pyatmos import download_sw_nrlmsise00, read_sw_nrlmsise00 #atmosphere data\n",
    "from pyatmos import nrlmsise00\n",
    "import sympy as sym\n",
    "import matplotlib.pyplot as plt\n",
    "import numpy as np\n",
    "from scipy import integrate\n",
    "import time\n",
    "\n",
    "#Requires ipympl\n",
    "#%matplotlib widget"
   ]
  },
  {
   "cell_type": "code",
   "execution_count": 2,
   "id": "ea8ad3b6",
   "metadata": {},
   "outputs": [
    {
     "name": "stdout",
     "output_type": "stream",
     "text": [
      "The Space Weather file 'SW-All.csv' in C:\\Users\\Brody/src/sw-data/ is already the latest.\n"
     ]
    }
   ],
   "source": [
    "# Update space weather data\n",
    "swfile = download_sw_nrlmsise00() \n",
    "swdata = read_sw_nrlmsise00(swfile) "
   ]
  },
  {
   "cell_type": "code",
   "execution_count": 3,
   "id": "6ca46019",
   "metadata": {},
   "outputs": [],
   "source": [
    "M_dict = {\n",
    "    'He': 4.002602,\n",
    "    'O': 15.999,\n",
    "    'N2': 28.014,\n",
    "    'O2': 31.998,\n",
    "    'Ar': 39.948,\n",
    "    'H': 1.00784,\n",
    "    'N': 14.007,\n",
    "    'ANM O': 15.999,\n",
    "}\n",
    "g_dict = {\n",
    "    'He': 1.66,\n",
    "    'O': 1.66,\n",
    "    'N2': 1.40,\n",
    "    'O2': 1.40,\n",
    "    'Ar': 1.66,\n",
    "    'H': 1.66,\n",
    "    'N': 1.66,\n",
    "    'ANM O': 1.66,\n",
    "}\n",
    "Av_kg = 6.023e23*1e3 # 1/k mol\n",
    "R_ideal = 8.314*1e3 #mJ / mol K"
   ]
  },
  {
   "cell_type": "code",
   "execution_count": 4,
   "id": "7b59cac9",
   "metadata": {},
   "outputs": [],
   "source": [
    "#Earth Parameters\n",
    "r_e = 6.371*1e6 #m\n",
    "G_e = 3.986*1e14 #m3⋅s−2"
   ]
  },
  {
   "cell_type": "code",
   "execution_count": 5,
   "id": "18febd87",
   "metadata": {},
   "outputs": [],
   "source": [
    "t = '2023-11-05 12:00:00' # time(UTC) \n",
    "#lat,lon,alt = 25,102,86 # latitude, longitude in [degree], and altitude in [km]\n",
    "\n",
    "def speed_of_sound(lat, lon, alt, t):\n",
    "    nrl00 = nrlmsise00(t, (lat, lon, alt), swdata)\n",
    "    \n",
    "    t_d = 0\n",
    "    n_c = 0\n",
    "    d_c = 0\n",
    "    for spec in nrl00.nd:\n",
    "        t_d += nrl00.nd[spec]\n",
    "        n_c += nrl00.nd[spec]*g_dict[spec]/(g_dict[spec]-1)\n",
    "        d_c += nrl00.nd[spec]/(g_dict[spec]-1)\n",
    "\n",
    "    M_net = (nrl00.rho*Av_kg/t_d)\n",
    "    R_net = R_ideal/M_net\n",
    "    gamma_net = n_c/d_c\n",
    "    cs_calc = np.sqrt(gamma_net*R_net*nrl00.T)\n",
    "    \n",
    "    return cs_calc, gamma_net, nrl00.rho"
   ]
  },
  {
   "cell_type": "code",
   "execution_count": 6,
   "id": "6a1d0cd7",
   "metadata": {},
   "outputs": [],
   "source": [
    "#Create symbols to use in equations\n",
    "#Note: +x is defined as the windward direction\n",
    "x_s, y_s, z_s = sym.symbols('x y z')\n",
    "vs = sym.symbols('y z')\n",
    "R_s, L_s, a_s, M_s = sym.symbols('R L a M')"
   ]
  },
  {
   "cell_type": "code",
   "execution_count": 7,
   "id": "04faf2bb",
   "metadata": {},
   "outputs": [],
   "source": [
    "#----------- SET VEHICLE BODY PARAMETERS ----------\n",
    "#Radius\n",
    "R = 2.56 #m\n",
    "#Length factor\n",
    "L = 0.2*R\n",
    "#Mass\n",
    "m = 9300 #kg\n",
    "#Body shape\n",
    "body_shape = 'ellipsoid'\n",
    "    \n",
    "#----------- ADDITIONAL BODY PARAMETERS -------------\n",
    "#Exclude edges of the surface from the integration domain to prevent errors\n",
    "bound_sf = (1-1e-15)"
   ]
  },
  {
   "cell_type": "code",
   "execution_count": 8,
   "id": "9ece9478",
   "metadata": {},
   "outputs": [],
   "source": [
    "##----------- SET FLIGHT VEHICLE SHAPE EQUATIONS #-----------\n",
    "\n",
    "if body_shape == 'ellipsoid':\n",
    "    #----------- SET ELLIPSOID EQUATIONS ----------------\n",
    "    #Windward surface of the ellipsoid\n",
    "    s = (-(2*z_s*(L_s**2-R_s**2)*sym.cos(a_s)*sym.sin(a_s))-sym.sqrt((2*(L_s**2-R_s**2)*sym.cos(a_s)*sym.sin(a_s)*z_s)**2-4*(R_s**2*sym.cos(a_s)**2+L_s**2*sym.sin(a_s)**2)*(z_s**2*(R_s**2*sym.sin(a_s)**2+L_s**2*sym.cos(a_s)**2)+L_s**2*(y_s**2-R_s**2))))/(2*(R_s**2*sym.cos(a_s)**2+L_s**2*sym.sin(a_s)**2))\n",
    "    #Upper surface curve when set equal to zero, symmetric across horizontal axis\n",
    "    bu_f = (2*(L_s**2-R_s**2)*sym.cos(a_s)*sym.sin(a_s)*z_s)**2-4*(R_s**2*sym.cos(a_s)**2+L_s**2*sym.sin(a_s)**2)*(z_s**2*(R_s**2*sym.sin(a_s)**2+L_s**2*sym.cos(a_s)**2)+L_s**2*(y_s**2-R_s**2))\n",
    "\n",
    "elif body_shape == 'cone':\n",
    "    #----------- SET CONE EQUATIONS ----------------\n",
    "    #Windward surface of the ellipsoid\n",
    "    s = ((2*R_s**2*(z_s-L_s*sym.sin(a_s))*sym.cos(a_s)*sym.sin(a_s)+2*(z_s-L_s*sym.sin(a_s))*sym.cos(a_s)*sym.sin(a_s))+sym.sqrt((-2*R_s**2*(z_s-L_s*sym.sin(a_s))*sym.cos(a_s)*sym.sin(a_s)-2*(z_s-L_s*sym.sin(a_s))*sym.cos(a_s)*sym.sin(a_s))**2-4*(R_s**2*sym.cos(a_s)**2-sym.sin(a_s)**2)*(R_s**2*(z_s-L_s*sym.sin(a_s))**2*sym.sin(a_s)**2-(z_s-L_s*sym.sin(a_s))**2*sym.cos(a_s)**2-y_s**2)))/(2*(R_s**2*sym.cos(a_s)**2-sym.sin(a_s)**2))\n",
    "    #Upper surface curve when set equal to zero, symmetric across horizontal axis\n",
    "    bu_f = sym.cos(a_s)*sym.sqrt(L_s**2*R_s**2-y_s**2)-z_s"
   ]
  },
  {
   "cell_type": "code",
   "execution_count": 9,
   "id": "369c6777",
   "metadata": {},
   "outputs": [],
   "source": [
    "#--------- USEFUL CALCULATION QUANTITIES -----------\n",
    "#Partial derivatives of the surface function\n",
    "py = sym.diff(s, y_s)\n",
    "pz = sym.diff(s, z_s)\n",
    "\n",
    "#Solution for the upper boundary of integration\n",
    "bu = sym.solve(bu_f, z_s)\n",
    "bu = bu[len(bu)-1]\n",
    "\n",
    "#Square of the normal component of the surface, n_x^2\n",
    "nx2 = 1/(1+py**2+pz**2)\n",
    "\n",
    "#Cotangent of the surface to the freestream at a point\n",
    "cot = sym.sqrt((1/nx2)-1)*(-pz/sym.Abs(pz))\n",
    "\n",
    "#Integrand for calculating coeficient of lift\n",
    "nx2cot = nx2*cot"
   ]
  },
  {
   "cell_type": "code",
   "execution_count": 10,
   "id": "1cf92e38",
   "metadata": {},
   "outputs": [],
   "source": [
    "#----- FUNCTION FOR GETTING C_d and C_l FROM AOA -------\n",
    "def coeff_aoa(aoa, area_scaled = True):\n",
    "    #Convert from degrees to radians\n",
    "    aoa = aoa*np.pi/180\n",
    "    \n",
    "    #------- CREATE FAST FUNCTIONS FOR INTEGRATION ---------\n",
    "    #Upper edge height from  pitching axis as function of dist along that axis\n",
    "    #For a given body geometry and angle of attack\n",
    "    fvbu = bound_sf*bu.subs(L_s,L).subs(R_s,R).subs(a_s,aoa).evalf()\n",
    "    syms = [sym.parse_expr(item) for item in [str(fvbu)]]\n",
    "    f_bu = [sym.lambdify(y_s, f) for f in syms]\n",
    "\n",
    "    #C_d integrand as a function of position\n",
    "    #For a given body geometry and angle of attack\n",
    "    fvnx2 = nx2.subs(L_s,L).subs(R_s,R).subs(a_s,aoa).evalf()\n",
    "    syms = [sym.parse_expr(item) for item in [str(fvnx2)]]\n",
    "    f_nx2 = [sym.lambdify(vs, f) for f in syms]\n",
    "\n",
    "    #C_l integrand as a function of position\n",
    "    #For a given body geometry and angle of attack\n",
    "    fnx2cot = nx2cot.subs(L_s,L).subs(R_s,R).subs(a_s,aoa).evalf()\n",
    "    syms = [sym.parse_expr(item) for item in [str(fnx2cot)]]\n",
    "    f_nx2cot = [sym.lambdify(vs, f) for f in syms]\n",
    "    \n",
    "    #------- INTEGRATIONS ---------\n",
    "    #Projected cross sectional area (half)\n",
    "    A = integrate.dblquad(lambda z, y: 1, 0, R, lambda y: -[f(y) for f in f_bu][0], lambda y: [f(y) for f in f_bu][0])[0]\n",
    "    \n",
    "    #C_d (divided by maximum C_p)\n",
    "    C_d_Cpm_i = integrate.dblquad(lambda z, y: [f(y, z) for f in f_nx2][0] , 0, R, lambda y: -[f(y) for f in f_bu][0], lambda y: [f(y) for f in f_bu][0])[0]\n",
    "\n",
    "    #C_l (divided by maximum C_p)\n",
    "    C_l_Cpm_i = integrate.dblquad(lambda z, y: [f(y, z) for f in f_nx2cot][0] , 0, R, lambda y: -[f(y) for f in f_bu][0], lambda y: [f(y) for f in f_bu][0])[0]\n",
    "    \n",
    "    if not area_scaled:\n",
    "        #Return purely the aero coefficients\n",
    "        C_d_Cpm_i = C_d_Cpm_i/A\n",
    "        C_l_Cpm_i = C_l_Cpm_i/A\n",
    "\n",
    "        #Otherwise return aero coefficients * A/2 for easier computation\n",
    "        \n",
    "    return C_d_Cpm_i, C_l_Cpm_i"
   ]
  },
  {
   "cell_type": "code",
   "execution_count": 11,
   "id": "ba33ce28",
   "metadata": {},
   "outputs": [],
   "source": [
    "#----- FUNCTION FOR GETTING INSTANTANEOUS AERO PARAMETERS -------\n",
    "def instant_coeff(C_d_Cpm, C_l_Cpm, M, gamma):\n",
    "    #Instantaneous coeffcient of max pressure\n",
    "    C_p_max = (2/(gamma*M**2))*((((gamma+1)**2*M**2)/(4*gamma*M**2-2*gamma+2))**(gamma/(gamma-1))*((1-gamma+2*gamma*M**2)/(gamma+1))-1)\n",
    "\n",
    "    #Instantaneous coeffcient of drag\n",
    "    C_d = C_d_Cpm*C_p_max\n",
    "\n",
    "    #Instantaneous coeffcient of lift\n",
    "    C_l = C_l_Cpm*C_p_max\n",
    "    \n",
    "    return C_p_max, C_d, C_l"
   ]
  },
  {
   "cell_type": "code",
   "execution_count": 12,
   "id": "4fa0901f",
   "metadata": {
    "scrolled": true
   },
   "outputs": [
    {
     "name": "stderr",
     "output_type": "stream",
     "text": [
      "C:\\Users\\Brody\\anaconda3\\envs\\ae483\\lib\\site-packages\\scipy\\integrate\\_quadpack_py.py:1233: IntegrationWarning: The maximum number of subdivisions (50) has been achieved.\n",
      "  If increasing the limit yields no improvement it is advised to analyze \n",
      "  the integrand in order to determine the difficulties.  If the position of a \n",
      "  local difficulty can be determined (singularity, discontinuity) one will \n",
      "  probably gain from splitting up the interval and calling the integrator \n",
      "  on the subranges.  Perhaps a special-purpose integrator should be used.\n",
      "  quad_r = quad(f, low, high, args=args, full_output=self.full_output,\n"
     ]
    }
   ],
   "source": [
    "#Calculate ceofficients for an angle of attack\n",
    "C_d_Cpm, C_l_Cpm = coeff_aoa(-8, area_scaled = True)"
   ]
  },
  {
   "cell_type": "code",
   "execution_count": 13,
   "id": "d17d7472",
   "metadata": {},
   "outputs": [
    {
     "name": "stderr",
     "output_type": "stream",
     "text": [
      "C:\\Users\\Brody\\anaconda3\\envs\\ae483\\lib\\site-packages\\pyatmos\\msise\\spaceweather.py:107: FutureWarning: Series.__getitem__ treating keys as positions is deprecated. In a future version, integer keys will always be treated as labels (consistent with DataFrame behavior). To access a value by position, use `ser.iloc[pos]`\n",
      "  ap_c = aph_tmp_b0[i]\n"
     ]
    }
   ],
   "source": [
    "#------- FLIGHT INSTANTANEOUS CONDITION --------\n",
    "v_mag = 7852.68 #m/s\n",
    "z_alt = 100000 #m\n",
    "\n",
    "cs_calc, gamma_calc, rho_calc = speed_of_sound(25, 102, z_alt/1e3, t)\n",
    "\n",
    "M_v = v_mag/cs_calc\n",
    "gamma_v = gamma_calc\n",
    "\n",
    "#Instantaneous aerodynamic coefficients\n",
    "C_p_max, C_d, C_l = instant_coeff(C_d_Cpm, C_l_Cpm , M=M_v, gamma=gamma_v)"
   ]
  },
  {
   "cell_type": "code",
   "execution_count": 14,
   "id": "84eb6568",
   "metadata": {},
   "outputs": [
    {
     "name": "stdout",
     "output_type": "stream",
     "text": [
      "C_p_max   : 1.8356367679168435\n",
      "A * C_d/2 : 16.604631182232612\n",
      "A * C_l/2 : 2.528273706436173\n"
     ]
    }
   ],
   "source": [
    "#Display aerodynamic coefficients for verification\n",
    "print('C_p_max   : '+str(C_p_max))\n",
    "print('A * C_d/2 : '+str(C_d))\n",
    "print('A * C_l/2 : '+str(C_l))"
   ]
  },
  {
   "cell_type": "code",
   "execution_count": 15,
   "id": "1e4b0b5c",
   "metadata": {},
   "outputs": [
    {
     "name": "stdout",
     "output_type": "stream",
     "text": [
      "Drag acc : 0.06557051491609811\n",
      "Lift acc : 0.00998397416723359\n",
      "Total acc: 0.06632625548404066\n"
     ]
    }
   ],
   "source": [
    "D_f = C_d*rho_calc*v_mag*v_mag\n",
    "D_acc = D_f/m\n",
    "\n",
    "L_f = C_l*rho_calc*v_mag*v_mag\n",
    "L_acc = L_f/m\n",
    "\n",
    "print('Drag acc : '+str(D_acc))\n",
    "print('Lift acc : '+str(L_acc))\n",
    "print('Total acc: '+str(np.sqrt(L_acc*L_acc+D_acc*D_acc)))"
   ]
  },
  {
   "cell_type": "code",
   "execution_count": 16,
   "id": "b313cc43",
   "metadata": {},
   "outputs": [],
   "source": [
    "def basic_step(r_vec, v_vec, dt=1.0, bank = 0.0):\n",
    "    #------- FLIGHT INSTANTANEOUS CONDITION --------\n",
    "    v_mag = np.linalg.norm(v_vec)\n",
    "    z_alt = np.linalg.norm(r_vec)-r_e\n",
    "    d_vec = r_vec/np.linalg.norm(r_vec)\n",
    "    d_vel = (v_vec/v_mag)\n",
    "    bank = bank*(np.pi/180)\n",
    "\n",
    "    #Global Position Coordinates\n",
    "    lat_int = 90-np.arccos(d_vec[2])*180/np.pi\n",
    "    long_int = np.arccos(d_vec[0]/np.sin((90-lat_int)*np.pi/180))*180/np.pi\n",
    "\n",
    "    cs_calc, gamma_calc, rho_calc = speed_of_sound(lat_int, long_int, z_alt/1e3, t)\n",
    "\n",
    "    M_v = v_mag/cs_calc\n",
    "    gamma_v = gamma_calc\n",
    "    \n",
    "    if M_v < 5 or z_alt<0:\n",
    "        return r_vec, v_vec, False\n",
    "\n",
    "    #Instantaneous aerodynamic coefficients\n",
    "    C_p_max, C_d, C_l = instant_coeff(C_d_Cpm, C_l_Cpm , M=M_v, gamma=gamma_v)\n",
    "\n",
    "    D_f = C_d*rho_calc*v_mag*v_mag\n",
    "    D_acc = D_f/m\n",
    "\n",
    "    L_f = C_l*rho_calc*v_mag*v_mag\n",
    "    L_acc = L_f/m\n",
    "\n",
    "    W_acc = G_e/(z_alt+r_e)**2\n",
    "\n",
    "    r_vec += dt * v_vec\n",
    "    v_vec += -dt * W_acc * d_vec\n",
    "    v_vec += -dt * D_acc * d_vel\n",
    "    \n",
    "    #Lift Caclulations\n",
    "        #Zero bank lift direction\n",
    "    d_l0b = np.cross(d_vel, np.cross(d_vel, d_vec))\n",
    "    d_lift = np.cos(bank)*d_l0b + np.sin(bank) * np.cross(d_vel, d_l0b)\n",
    "    v_vec += dt * L_acc * d_lift\n",
    "    \n",
    "    acc_g = np.sqrt(D_acc**2 + (L_acc)**2)\n",
    "        \n",
    "    #path_alt.append(z_alt*1e-3)\n",
    "    #path_vel.append(v_mag*1e-3)\n",
    "    #path_mach.append(M_v)\n",
    "    path_long.append(long_int)\n",
    "    path_lat.append(lat_int)\n",
    "    #path_acc.append(acc_g)\n",
    "    \n",
    "    return r_vec, v_vec, True"
   ]
  },
  {
   "cell_type": "code",
   "execution_count": 17,
   "id": "9ffdb4a7",
   "metadata": {},
   "outputs": [],
   "source": [
    "#------- INITIALIZE FLIGHT CONDITIONS --------\n",
    "lat_i = 0\n",
    "long_i = 0\n",
    "z_i = 100000\n",
    "entry_rot = 0\n",
    "v_entry_mag = 7910.0\n",
    "\n",
    "dt_mult = 1."
   ]
  },
  {
   "cell_type": "code",
   "execution_count": 18,
   "id": "3f0e9281",
   "metadata": {},
   "outputs": [
    {
     "name": "stdout",
     "output_type": "stream",
     "text": [
      "0.0\n",
      "10.0\n",
      "20.0\n",
      "30.0\n",
      "40.0\n",
      "50.0\n",
      "60.0\n",
      "70.0\n",
      "80.0\n",
      "90.0\n",
      "100.0\n",
      "110.0\n",
      "120.0\n",
      "130.0\n",
      "140.0\n",
      "150.0\n",
      "160.0\n",
      "170.0\n",
      "180.0\n"
     ]
    }
   ],
   "source": [
    "end_bank_10 = []\n",
    "end_lat_10 = []\n",
    "end_long_10 = []\n",
    "\n",
    "for j in np.linspace(0,180, 19):\n",
    "    C_d_Cpm, C_l_Cpm = coeff_aoa(10, area_scaled = True)\n",
    "    \n",
    "    z_vec = np.array([z_i*np.sin((90-lat_i)*np.pi/180)*np.cos(long_i*np.pi/180), z_i*np.sin((90-lat_i)*np.pi/180)*np.sin(long_i*np.pi/180), z_i*np.cos((90-lat_i)*np.pi/180)])\n",
    "    r_vec = (np.linalg.norm(z_vec)+r_e)*z_vec/np.linalg.norm(z_vec)\n",
    "    v_vec = np.array([0.0, 7010.0, 0.0])\n",
    "    \n",
    "    path_lat = []\n",
    "    path_long = []\n",
    "    \n",
    "    for i in range(int(500*dt_mult)):\n",
    "        r_vec, v_vec, hyper = basic_step(r_vec, v_vec, dt=1./dt_mult, bank = j)\n",
    "        if not hyper:\n",
    "            break\n",
    "    print(j)\n",
    "    end_bank_10.append(j)\n",
    "    end_lat_10.append(path_lat[-1])\n",
    "    end_long_10.append(path_long[-1])"
   ]
  },
  {
   "cell_type": "code",
   "execution_count": 19,
   "id": "c9cae514",
   "metadata": {},
   "outputs": [
    {
     "data": {
      "image/png": "[encoded data removed]",
      "text/plain": [
       "<Figure size 640x480 with 1 Axes>"
      ]
     },
     "metadata": {},
     "output_type": "display_data"
    }
   ],
   "source": [
    "plt.clf()\n",
    "plt.plot(end_lat_10, end_long_10)\n",
    "plt.xlabel('Latitude, deg')\n",
    "plt.ylabel('Longitude, deg')\n",
    "plt.ylim([14.5, 18.5])\n",
    "plt.xlim([-2.0, 2.0])\n",
    "plt.show()"
   ]
  },
  {
   "cell_type": "code",
   "execution_count": 20,
   "id": "76f2a099",
   "metadata": {},
   "outputs": [
    {
     "name": "stdout",
     "output_type": "stream",
     "text": [
      "0.0\n",
      "10.0\n",
      "20.0\n",
      "30.0\n",
      "40.0\n",
      "50.0\n",
      "60.0\n",
      "70.0\n",
      "80.0\n",
      "90.0\n",
      "100.0\n",
      "110.0\n",
      "120.0\n",
      "130.0\n",
      "140.0\n",
      "150.0\n",
      "160.0\n",
      "170.0\n",
      "180.0\n"
     ]
    }
   ],
   "source": [
    "end_bank_26 = []\n",
    "end_lat_26 = []\n",
    "end_long_26 = []\n",
    "\n",
    "for j in np.linspace(0,180, 19):\n",
    "    C_d_Cpm, C_l_Cpm = coeff_aoa(26, area_scaled = True)\n",
    "    \n",
    "    z_vec = np.array([z_i*np.sin((90-lat_i)*np.pi/180)*np.cos(long_i*np.pi/180), z_i*np.sin((90-lat_i)*np.pi/180)*np.sin(long_i*np.pi/180), z_i*np.cos((90-lat_i)*np.pi/180)])\n",
    "    r_vec = (np.linalg.norm(z_vec)+r_e)*z_vec/np.linalg.norm(z_vec)\n",
    "    v_vec = np.array([0.0, 7010.0, 0.0])\n",
    "    \n",
    "    path_lat = []\n",
    "    path_long = []\n",
    "    \n",
    "    for i in range(int(500*dt_mult)):\n",
    "        r_vec, v_vec, hyper = basic_step(r_vec, v_vec, dt=1./dt_mult, bank = j)\n",
    "        if not hyper:\n",
    "            break\n",
    "    print(j)\n",
    "    end_bank_26.append(j)\n",
    "    end_lat_26.append(path_lat[-1])\n",
    "    end_long_26.append(path_long[-1])"
   ]
  },
  {
   "cell_type": "code",
   "execution_count": 21,
   "id": "11077fbe",
   "metadata": {},
   "outputs": [
    {
     "data": {
      "image/png": "[encoded data removed]",
      "text/plain": [
       "<Figure size 640x480 with 1 Axes>"
      ]
     },
     "metadata": {},
     "output_type": "display_data"
    }
   ],
   "source": [
    "plt.clf()\n",
    "plt.plot(end_lat_26, end_long_26)\n",
    "plt.xlabel('Latitude, deg')\n",
    "plt.ylabel('Longitude, deg')\n",
    "plt.ylim([14, 26])\n",
    "plt.xlim([-6.0, 6.0])\n",
    "plt.show()"
   ]
  },
  {
   "cell_type": "code",
   "execution_count": 34,
   "id": "88286213",
   "metadata": {},
   "outputs": [
    {
     "data": {
      "image/png": "[encoded data removed]",
      "text/plain": [
       "<Figure size 640x480 with 1 Axes>"
      ]
     },
     "metadata": {},
     "output_type": "display_data"
    }
   ],
   "source": [
    "plt.clf()\n",
    "plt.plot(end_long_10, end_lat_10, label=\"aoa: 10 deg\", color='blue')\n",
    "plt.plot(end_long_26, end_lat_26, label=\"aoa: 26 deg\", color='red')\n",
    "plt.plot(end_long_10, -1*np.array(end_lat_10),color='blue')\n",
    "plt.plot(end_long_26, -1*np.array(end_lat_26),color='red')\n",
    "plt.plot([0,90], [0,0], label='centerline', color='black', linewidth=0.5)\n",
    "plt.ylabel('Latitude, deg')\n",
    "plt.xlabel('Longitude, deg')\n",
    "plt.xlim([14, 26])\n",
    "plt.ylim([-6.0, 6.0])\n",
    "plt.legend()\n",
    "plt.show()"
   ]
  },
  {
   "cell_type": "code",
   "execution_count": null,
   "id": "3ca6a9b3",
   "metadata": {},
   "outputs": [],
   "source": []
  }
 ],
 "metadata": {
  "kernelspec": {
   "display_name": "Python 3 (ipykernel)",
   "language": "python",
   "name": "python3"
  },
  "language_info": {
   "codemirror_mode": {
    "name": "ipython",
    "version": 3
   },
   "file_extension": ".py",
   "mimetype": "text/x-python",
   "name": "python",
   "nbconvert_exporter": "python",
   "pygments_lexer": "ipython3",
   "version": "3.10.12"
  }
 },
 "nbformat": 4,
 "nbformat_minor": 5
}
